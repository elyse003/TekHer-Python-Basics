{
 "cells": [
  {
   "cell_type": "markdown",
   "id": "426486dd",
   "metadata": {},
   "source": [
    "# Practical_1: Variables and Assignments"
   ]
  },
  {
   "cell_type": "markdown",
   "id": "9fb19f0d",
   "metadata": {},
   "source": [
    "----\n",
    "\n",
    "### Exercise 1:\n",
    "Declare a variable `x` and assign it the value `10`.\n",
    "\n",
    "```python\n",
    "# Exercise 1\n",
    "```\n",
    "\n",
    "---\n",
    "\n",
    "### Exercise 2:\n",
    "Assign the value `True` to a variable called `is_valid`.\n",
    "\n",
    "```python\n",
    "# Exercise 2\n",
    "```\n",
    "\n",
    "---\n",
    "\n",
    "### Exercise 3:\n",
    "Create a string variable `name` with the value \"Python Programming\".\n",
    "\n",
    "```python\n",
    "# Exercise 3\n",
    "```\n",
    "\n",
    "---\n",
    "\n",
    "### Exercise 4:\n",
    "Assign the result of `5 + 3` to a variable `sum_result`.\n",
    "\n",
    "```python\n",
    "# Exercise 4\n",
    "```\n",
    "\n",
    "---\n",
    "\n",
    "### Exercise 5:\n",
    "Assign multiple variables in one line: `a = 5`, `b = 10`, `c = 15`.\n",
    "\n",
    "```python\n",
    "# Exercise 5\n",
    "```\n",
    "\n",
    "---\n",
    "\n",
    "### Exercise 6:\n",
    "Assign the value of one variable `x` to another variable `y`.\n",
    "\n",
    "```python\n",
    "# Exercise 6\n",
    "```\n",
    "\n",
    "---\n",
    "\n",
    "### Exercise 7:\n",
    "Assign a floating-point number `9.8` to a variable `gravity`.\n",
    "\n",
    "```python\n",
    "# Exercise 7\n",
    "```\n",
    "\n",
    "---\n",
    "\n",
    "### Exercise 8:\n",
    "Create a variable `country` and assign it the string value of your favorite country.\n",
    "\n",
    "```python\n",
    "# Exercise 8\n",
    "```\n",
    "\n",
    "---\n",
    "\n",
    "### Exercise 9:\n",
    "Change the value of variable `age` from `25` to `26` in two separate steps.\n",
    "\n",
    "```python\n",
    "# Exercise 9\n",
    "```\n",
    "\n",
    "---\n",
    "\n",
    "### Exercise 10:\n",
    "Use one variable to store the result of subtracting two numbers `20 - 7`.\n",
    "\n",
    "```python\n",
    "# Exercise 10\n",
    "```\n",
    "\n",
    "---\n",
    "\n",
    "### Exercise 11:\n",
    "Assign an integer value and a floating-point value to two different variables.\n",
    "\n",
    "```python\n",
    "# Exercise 11\n",
    "```\n",
    "\n",
    "---\n",
    "\n",
    "### Exercise 12:\n",
    "Assign a boolean value `False` to a variable `is_completed`.\n",
    "\n",
    "```python\n",
    "# Exercise 12\n",
    "```\n",
    "\n",
    "---\n",
    "\n",
    "### Exercise 13:\n",
    "Swap the values of two variables `x` and `y`.\n",
    "\n",
    "```python\n",
    "# Exercise 13\n",
    "```\n",
    "\n",
    "---\n",
    "\n",
    "### Exercise 14:\n",
    "Assign a complex number `3 + 4j` to a variable `complex_num`.\n",
    "\n",
    "```python\n",
    "# Exercise 14\n",
    "```\n",
    "\n",
    "---\n",
    "\n",
    "### Exercise 15:\n",
    "Reassign a variable from an integer to a string.\n",
    "\n",
    "```python\n",
    "# Exercise 15\n",
    "```\n",
    "\n",
    "---\n",
    "\n",
    "### Exercise 16:\n",
    "Create two variables `first_name` and `last_name`, and assign them your first and last names.\n",
    "\n",
    "```python\n",
    "# Exercise 16\n",
    "```\n",
    "\n",
    "---\n",
    "\n",
    "### Exercise 17:\n",
    "Create a variable `temperature` and assign it the value of `35.5`.\n",
    "\n",
    "```python\n",
    "# Exercise 17\n",
    "```\n",
    "\n",
    "---\n",
    "\n",
    "### Exercise 18:\n",
    "Assign the result of the multiplication of two numbers `8 * 6` to a variable `product`.\n",
    "\n",
    "```python\n",
    "# Exercise 18\n",
    "```\n",
    "\n",
    "---\n",
    "\n",
    "### Exercise 19:\n",
    "Assign a sentence of your choice to a variable `sentence`.\n",
    "\n",
    "```python\n",
    "# Exercise 19\n",
    "```\n",
    "\n",
    "---\n",
    "\n",
    "### Exercise 20:\n",
    "Use an assignment to convert a string `'50'` into an integer variable `int_value`.\n",
    "\n",
    "```python\n",
    "# Exercise 20\n",
    "```\n",
    "\n",
    "---\n",
    "\n",
    "### Exercise 21:\n",
    "Assign the result of dividing `144` by `12` to a variable `quotient`.\n",
    "\n",
    "```python\n",
    "# Exercise 21\n",
    "```\n",
    "\n",
    "---\n",
    "\n",
    "### Exercise 22:\n",
    "Assign the remainder of `47 divided by 5` to a variable `remainder`.\n",
    "\n",
    "```python\n",
    "# Exercise 22\n",
    "```\n",
    "\n",
    "---\n",
    "\n",
    "### Exercise 23:\n",
    "Create a variable `is_student` and assign it the value `True`.\n",
    "\n",
    "```python\n",
    "# Exercise 23\n",
    "```\n",
    "\n",
    "---\n",
    "\n",
    "### Exercise 24:\n",
    "Use a variable to store the result of a modulo operation: `45 % 4`.\n",
    "\n",
    "```python\n",
    "# Exercise 24\n",
    "```\n",
    "\n",
    "---\n",
    "\n",
    "### Exercise 25:\n",
    "Create a variable `pi` and assign it the value `3.14159`.\n",
    "\n",
    "```python\n",
    "# Exercise 25\n",
    "```\n",
    "\n",
    "---\n",
    "\n",
    "### Exercise 26:\n",
    "Create two variables `length` and `width`, assign them values, and calculate the area of a rectangle.\n",
    "\n",
    "```python\n",
    "# Exercise 26\n",
    "```\n",
    "\n",
    "---\n",
    "\n",
    "### Exercise 27:\n",
    "Assign a negative number to a variable `negative_value`.\n",
    "\n",
    "```python\n",
    "# Exercise 27\n",
    "```\n",
    "\n",
    "---\n",
    "\n",
    "### Exercise 28:\n",
    "Assign a string containing a special character (e.g., \"Hello, World!\") to a variable `greeting`.\n",
    "\n",
    "```python\n",
    "# Exercise 28\n",
    "```\n",
    "\n",
    "---\n",
    "\n",
    "### Exercise 29:\n",
    "Create a variable `population` and assign it a large integer value (in billions).\n",
    "\n",
    "```python\n",
    "# Exercise 29\n",
    "```\n",
    "\n",
    "---\n",
    "\n",
    "### Exercise 30:\n",
    "Use a variable to store the result of raising `2` to the power of `8`.\n",
    "\n",
    "```python\n",
    "# Exercise 30\n",
    "```\n",
    "\n",
    "---\n",
    "\n",
    "### Exercise 31:\n",
    "Assign a list of your favorite fruits to a variable `fruits`.\n",
    "\n",
    "```python\n",
    "# Exercise 31\n",
    "```\n",
    "\n",
    "---\n",
    "\n",
    "### Exercise 32:\n",
    "Assign a tuple of three numbers to a variable `coordinates`.\n",
    "\n",
    "```python\n",
    "# Exercise 32\n",
    "```\n",
    "\n",
    "---\n",
    "\n",
    "### Exercise 33:\n",
    "Assign a dictionary with keys `name` and `age` to a variable `person`.\n",
    "\n",
    "```python\n",
    "# Exercise 33\n",
    "```\n",
    "\n",
    "---\n",
    "\n",
    "### Exercise 34:\n",
    "Use variables to store the sum of two floating-point numbers.\n",
    "\n",
    "```python\n",
    "# Exercise 34\n",
    "```\n",
    "\n",
    "---\n",
    "\n",
    "### Exercise 35:\n",
    "Create a variable `is_sunny` and assign it the result of a comparison `10 > 5`.\n",
    "\n",
    "```python\n",
    "# Exercise 35\n",
    "```\n",
    "\n",
    "---\n",
    "\n",
    "### Exercise 36:\n",
    "Assign a string and an integer to two different variables, then print both on one line.\n",
    "\n",
    "```python\n",
    "# Exercise 36\n",
    "```\n",
    "\n",
    "---\n",
    "\n",
    "### Exercise 37:\n",
    "Reassign a variable that originally held a number to a boolean value.\n",
    "\n",
    "```python\n",
    "# Exercise 37\n",
    "```\n",
    "\n",
    "---\n",
    "\n",
    "### Exercise 38:\n",
    "Create a variable `is_weekend` and assign it the result of `False`.\n",
    "\n",
    "```python\n",
    "# Exercise 38\n",
    "```\n",
    "\n",
    "---\n",
    "\n",
    "### Exercise 39:\n",
    "Assign a multi-line string to a variable `description`.\n",
    "\n",
    "```python\n",
    "# Exercise 39\n",
    "```\n",
    "\n",
    "---\n",
    "\n",
    "### Exercise 40:\n",
    "Use variables to store the result of the absolute value of `-25`.\n",
    "\n",
    "```python\n",
    "# Exercise 40\n",
    "```\n",
    "\n",
    "---\n",
    "\n",
    "### Exercise 41:\n",
    "Assign the result of a floor division `100 // 6` to a variable `floor_div_result`.\n",
    "\n",
    "```python\n",
    "# Exercise 41\n",
    "```\n",
    "\n",
    "---\n",
    "\n",
    "### Exercise 42:\n",
    "Assign the result of adding a floating-point number to an integer to a variable `mixed_sum`.\n",
    "\n",
    "```python\n",
    "# Exercise 42\n",
    "```\n",
    "\n",
    "---\n",
    "\n",
    "### Exercise 43:\n",
    "Use variables to store a combination of string concatenation.\n",
    "\n",
    "```python\n",
    "# Exercise 43\n",
    "```\n",
    "\n",
    "---\n",
    "\n",
    "### Exercise 44:\n",
    "Assign an empty list to a variable `empty_list`.\n",
    "\n",
    "```python\n",
    "# Exercise 44\n",
    "```\n",
    "\n",
    "---\n",
    "\n",
    "### Exercise 45:\n",
    "Assign a boolean value based on the comparison of two variables `a = 10` and `b = 15`.\n",
    "\n",
    "```python\n",
    "# Exercise 45\n",
    "```\n",
    "\n",
    "---\n",
    "\n",
    "### Exercise 46:\n",
    "Assign a long sentence to a variable and count its characters using `len()`.\n",
    "\n",
    "```python\n",
    "# Exercise 46\n",
    "```\n",
    "\n",
    "---\n",
    "\n",
    "### Exercise 47:\n",
    "Assign a fractional result `7 / 3` to a variable `division_result`.\n",
    "\n",
    "```python\n",
    "# Exercise 47\n",
    "```\n",
    "\n",
    "---\n",
    "\n",
    "### Exercise 48:\n",
    "Create a variable `speed` and assign it the value of 100 kilometers per hour.\n",
    "\n",
    "```python\n",
    "# Exercise 48\n",
    "```\n",
    "\n",
    "---\n",
    "\n",
    "### Exercise 49:\n",
    "Assign a multi-variable equation like `y = 3x + 5` where `x = 4` to a variable `y`.\n",
    "\n",
    "```python\n",
    "# Exercise 49\n",
    "```\n",
    "\n",
    "---\n",
    "\n",
    "### Exercise 50:\n",
    "Use variables to calculate and store the average of three numbers.\n",
    "\n",
    "```python\n",
    "# Exercise 50\n",
    "```\n",
    "\n",
    "****"
   ]
  },
  {
   "cell_type": "markdown",
   "id": "f72a6756-06ba-471c-8702-24d1673c6114",
   "metadata": {},
   "source": [
    "# Exercise 1"
   ]
  },
  {
   "cell_type": "code",
   "execution_count": 1,
   "id": "8351b000-f628-48b8-b883-9a39f7ffa781",
   "metadata": {},
   "outputs": [],
   "source": [
    "x = 10"
   ]
  },
  {
   "cell_type": "markdown",
   "id": "1b077862-f93c-407e-bae2-5306a430cdcd",
   "metadata": {},
   "source": [
    "# Exercise 2"
   ]
  },
  {
   "cell_type": "code",
   "execution_count": 3,
   "id": "67cca5cf-8d06-422a-b307-40bf2c337d42",
   "metadata": {},
   "outputs": [],
   "source": [
    "is_valid = True"
   ]
  },
  {
   "cell_type": "markdown",
   "id": "a4b9a883-da00-4d6d-830b-1e46bdd7af57",
   "metadata": {},
   "source": [
    "# Exercise 3"
   ]
  },
  {
   "cell_type": "code",
   "execution_count": 4,
   "id": "398dfe3b-471f-4ce9-883c-bf9eb4df274d",
   "metadata": {},
   "outputs": [],
   "source": [
    "name = \"Python Programming\""
   ]
  },
  {
   "cell_type": "markdown",
   "id": "7a5261aa-f546-49c8-9f38-dedc4c599c1b",
   "metadata": {},
   "source": [
    "# Exercise 4"
   ]
  },
  {
   "cell_type": "code",
   "execution_count": 5,
   "id": "05dfe3a7-0b63-45f6-83d5-ab4e3ae5cb8b",
   "metadata": {},
   "outputs": [],
   "source": [
    "sum_result = 5 + 3"
   ]
  },
  {
   "cell_type": "markdown",
   "id": "57d993d7-8d4a-4a41-be74-22936f687528",
   "metadata": {},
   "source": [
    "# Exercise 5"
   ]
  },
  {
   "cell_type": "code",
   "execution_count": 6,
   "id": "3b2efd08-68d2-4bc7-8f7c-db5638bb86f1",
   "metadata": {},
   "outputs": [],
   "source": [
    "a, b, c = 5, 10, 15"
   ]
  },
  {
   "cell_type": "markdown",
   "id": "88320a66-7bbc-4048-b7c1-8da0a0d6d61f",
   "metadata": {},
   "source": [
    "# Exercise 6"
   ]
  },
  {
   "cell_type": "code",
   "execution_count": 7,
   "id": "63c6a88a-03e7-4a0c-a67d-4692b8656bbe",
   "metadata": {},
   "outputs": [],
   "source": [
    "y = x"
   ]
  },
  {
   "cell_type": "markdown",
   "id": "87c1218a-ff7d-4c30-81bd-4c1429270c63",
   "metadata": {},
   "source": [
    "# Exercise 7"
   ]
  },
  {
   "cell_type": "code",
   "execution_count": 8,
   "id": "217691bf-3546-479c-9be9-d17c397d0b74",
   "metadata": {},
   "outputs": [],
   "source": [
    "gravity = 9.8"
   ]
  },
  {
   "cell_type": "markdown",
   "id": "31b90312-7bfa-4313-9153-114d4027ccb3",
   "metadata": {},
   "source": [
    "# Exercise 8"
   ]
  },
  {
   "cell_type": "code",
   "execution_count": 9,
   "id": "5810f89b-2b33-4adc-9540-bf570d8b097d",
   "metadata": {},
   "outputs": [],
   "source": [
    "country = \"Rwanda\" "
   ]
  },
  {
   "cell_type": "markdown",
   "id": "2caf9298-5c1c-4b0f-a87c-55a96473c13f",
   "metadata": {},
   "source": [
    "# Exercise 9"
   ]
  },
  {
   "cell_type": "code",
   "execution_count": 10,
   "id": "9718548c-6ee9-4e78-a8b0-f822ee2d499c",
   "metadata": {},
   "outputs": [],
   "source": [
    "age = 25\n",
    "age = 26"
   ]
  },
  {
   "cell_type": "markdown",
   "id": "a679a484-df38-4e93-97d0-2fedac626fce",
   "metadata": {},
   "source": [
    "# Exercise 10"
   ]
  },
  {
   "cell_type": "code",
   "execution_count": 11,
   "id": "3e93d015-29bf-49e0-909f-82119216f09b",
   "metadata": {},
   "outputs": [],
   "source": [
    "difference = 20 - 7"
   ]
  },
  {
   "cell_type": "markdown",
   "id": "14268a34-8d33-490d-aec9-7cbdad80f27a",
   "metadata": {},
   "source": [
    "# Exercise 11"
   ]
  },
  {
   "cell_type": "code",
   "execution_count": 12,
   "id": "c237b9ce-851b-42c1-99cc-1e1660570b41",
   "metadata": {},
   "outputs": [],
   "source": [
    "int_var = 100\n",
    "float_var = 3.14"
   ]
  },
  {
   "cell_type": "markdown",
   "id": "e2f6188f-2d94-4ed1-b1ee-4381e95f4540",
   "metadata": {},
   "source": [
    "# Exercise 12"
   ]
  },
  {
   "cell_type": "code",
   "execution_count": 13,
   "id": "929d6d2a-3331-4443-abde-f5b53e7d9120",
   "metadata": {},
   "outputs": [],
   "source": [
    "is_completed = False"
   ]
  },
  {
   "cell_type": "markdown",
   "id": "86fa6ec2-ecfa-4000-ae24-411612bc2a0b",
   "metadata": {},
   "source": [
    "# Exercise 13"
   ]
  },
  {
   "cell_type": "code",
   "execution_count": 14,
   "id": "17f529e7-65e2-4c97-a8b8-a8f9a0d3114f",
   "metadata": {},
   "outputs": [],
   "source": [
    "x, y = y, x"
   ]
  },
  {
   "cell_type": "markdown",
   "id": "667387d3-a9f2-4374-a55f-f2f8bc0183b4",
   "metadata": {},
   "source": [
    "# Exercise 14"
   ]
  },
  {
   "cell_type": "code",
   "execution_count": 15,
   "id": "f71d4367-3e1a-40a5-883e-7d16745655a8",
   "metadata": {},
   "outputs": [],
   "source": [
    "complex_num = 3 + 4j"
   ]
  },
  {
   "cell_type": "markdown",
   "id": "a9bb4a49-21a6-4d2e-8338-d00c9497ca78",
   "metadata": {},
   "source": [
    "# Exercise 15"
   ]
  },
  {
   "cell_type": "code",
   "execution_count": 16,
   "id": "dca186da-e799-4051-9ded-d68d9d751e2e",
   "metadata": {},
   "outputs": [],
   "source": [
    "value = 42\n",
    "value = \"Now I'm a string\""
   ]
  },
  {
   "cell_type": "markdown",
   "id": "05907923-aaa0-427a-8354-5ee76db521fb",
   "metadata": {},
   "source": [
    "# Exercise 16"
   ]
  },
  {
   "cell_type": "code",
   "execution_count": 17,
   "id": "659195d0-12c4-404a-8553-0f51547a5ab0",
   "metadata": {},
   "outputs": [],
   "source": [
    "first_name = \"Elyse\"\n",
    "last_name = \"Uyiringiye\""
   ]
  },
  {
   "cell_type": "markdown",
   "id": "1ab06b14-6bc4-4b45-87fc-7a902e800f28",
   "metadata": {},
   "source": [
    "# Exercise 17"
   ]
  },
  {
   "cell_type": "code",
   "execution_count": 18,
   "id": "18dddec1-7c9b-42d9-b6e2-1486d027eac9",
   "metadata": {},
   "outputs": [],
   "source": [
    "temperature = 35.5"
   ]
  },
  {
   "cell_type": "markdown",
   "id": "c80b2217-6729-4cb6-9ccf-333399ed812a",
   "metadata": {},
   "source": [
    "# Exercise 18"
   ]
  },
  {
   "cell_type": "code",
   "execution_count": 19,
   "id": "8044416e-1306-43f6-bc37-360044397225",
   "metadata": {},
   "outputs": [],
   "source": [
    "product = 8 * 6"
   ]
  },
  {
   "cell_type": "markdown",
   "id": "c2c81155-bbfc-4797-a777-63f3116a4b30",
   "metadata": {},
   "source": [
    "# Exercise 19"
   ]
  },
  {
   "cell_type": "code",
   "execution_count": 20,
   "id": "e85b1daa-ba1f-4ee0-a975-190212edc57e",
   "metadata": {},
   "outputs": [],
   "source": [
    "sentence = \"I am a data analysis trainee at KLab.\""
   ]
  },
  {
   "cell_type": "markdown",
   "id": "611ead33-4121-4cbd-ad91-a3455504b703",
   "metadata": {},
   "source": [
    "# Exercise 20"
   ]
  },
  {
   "cell_type": "code",
   "execution_count": 22,
   "id": "c34d2ea8-59fb-4085-a37f-1bbac123746a",
   "metadata": {},
   "outputs": [],
   "source": [
    "int_value = int('50')"
   ]
  },
  {
   "cell_type": "markdown",
   "id": "a72a25c4-e5a7-43bf-b6b8-3b94a2b845e5",
   "metadata": {},
   "source": [
    "# Exercise 21"
   ]
  },
  {
   "cell_type": "code",
   "execution_count": 23,
   "id": "84444897-39bd-43f8-a9c8-7ba00e080ec6",
   "metadata": {},
   "outputs": [],
   "source": [
    "quotient = 144 / 12"
   ]
  },
  {
   "cell_type": "markdown",
   "id": "6b848cf7-2378-4e59-98c9-75f53233ebaf",
   "metadata": {},
   "source": [
    "# Exercise 22"
   ]
  },
  {
   "cell_type": "code",
   "execution_count": 24,
   "id": "1c31aea2-077a-429e-8adc-63a496026502",
   "metadata": {},
   "outputs": [],
   "source": [
    "remainder = 47 % 5"
   ]
  },
  {
   "cell_type": "markdown",
   "id": "1dc7b67c-958e-42f2-abcf-af1ef54f33b3",
   "metadata": {},
   "source": [
    "# Exercise 23"
   ]
  },
  {
   "cell_type": "code",
   "execution_count": 25,
   "id": "1af2b2ef-74b7-49bd-abf3-5d8961fad4da",
   "metadata": {},
   "outputs": [],
   "source": [
    "is_student = True"
   ]
  },
  {
   "cell_type": "markdown",
   "id": "2af8607d-cb05-44b6-994a-e4ee356ecfee",
   "metadata": {},
   "source": [
    "# Exercise 24"
   ]
  },
  {
   "cell_type": "code",
   "execution_count": 26,
   "id": "7bc52240-7320-4a87-800a-0dce37c6d6f9",
   "metadata": {},
   "outputs": [],
   "source": [
    "mod_result = 45 % 4"
   ]
  },
  {
   "cell_type": "markdown",
   "id": "01dad906-ff88-4418-82fa-fc84bcd63bb2",
   "metadata": {},
   "source": [
    "# Exercise 25"
   ]
  },
  {
   "cell_type": "code",
   "execution_count": 27,
   "id": "86d616ef-cd72-49c5-9bd3-2f6c116137d3",
   "metadata": {},
   "outputs": [],
   "source": [
    "pi = 3.14159"
   ]
  },
  {
   "cell_type": "markdown",
   "id": "bb7ebc4f-8c46-4bce-ba5e-d5b8103947db",
   "metadata": {},
   "source": [
    "# Exercise 26"
   ]
  },
  {
   "cell_type": "code",
   "execution_count": 28,
   "id": "5550cde9-955e-46db-b3bd-1eacfdbd2bf0",
   "metadata": {},
   "outputs": [],
   "source": [
    "length = 7\n",
    "width = 4\n",
    "area = length * width"
   ]
  },
  {
   "cell_type": "markdown",
   "id": "33ff8d82-b10f-45e6-9a8e-57deb266e8f5",
   "metadata": {},
   "source": [
    "# Exercise 27"
   ]
  },
  {
   "cell_type": "code",
   "execution_count": 29,
   "id": "a1fe1f55-5fa6-4482-9e9a-8f6439a45407",
   "metadata": {},
   "outputs": [],
   "source": [
    "negative_value = -99"
   ]
  },
  {
   "cell_type": "markdown",
   "id": "ca1e22c7-be58-4a7a-8db8-b129ffafcdac",
   "metadata": {},
   "source": [
    "# Exercise 28"
   ]
  },
  {
   "cell_type": "code",
   "execution_count": 30,
   "id": "28b6f8df-ec96-4ff1-a7d9-0e0438b7c8fb",
   "metadata": {},
   "outputs": [],
   "source": [
    "greeting = \"Hello, World!\""
   ]
  },
  {
   "cell_type": "markdown",
   "id": "8a7c3b9e-1452-4382-93a6-80090a712b64",
   "metadata": {},
   "source": [
    "# Exercise 29"
   ]
  },
  {
   "cell_type": "code",
   "execution_count": 31,
   "id": "02588de2-64c8-4af6-bfe6-3b7b0b621919",
   "metadata": {},
   "outputs": [],
   "source": [
    "population = 10_000_000_000  # 10 billion"
   ]
  },
  {
   "cell_type": "markdown",
   "id": "bd317f41-cff4-4295-889c-2cb904015660",
   "metadata": {},
   "source": [
    "# Exercise 30"
   ]
  },
  {
   "cell_type": "code",
   "execution_count": 33,
   "id": "d1fe07fc-9090-4762-8804-1bcdf3aa94a5",
   "metadata": {},
   "outputs": [],
   "source": [
    "power_result = 2 ** 8"
   ]
  },
  {
   "cell_type": "markdown",
   "id": "cc5bcc64-8bd0-491f-a51b-76307ff7cd62",
   "metadata": {},
   "source": [
    "# Exercise 31"
   ]
  },
  {
   "cell_type": "code",
   "execution_count": 34,
   "id": "eac98f6d-6b2a-4a85-98e1-50854783360e",
   "metadata": {},
   "outputs": [],
   "source": [
    "fruits = [\"grapes\", \"kiwi\", \"pineapple\"]"
   ]
  },
  {
   "cell_type": "markdown",
   "id": "807ce9f3-2c79-4d5c-a893-bbfd5c2c1e82",
   "metadata": {},
   "source": [
    "# Exercise 32"
   ]
  },
  {
   "cell_type": "code",
   "execution_count": 35,
   "id": "a3181b74-5be1-45d0-b602-1835517e1371",
   "metadata": {},
   "outputs": [],
   "source": [
    "coordinates = (10, 20, 30)"
   ]
  },
  {
   "cell_type": "markdown",
   "id": "e03b2509-5e93-42a0-bfc3-a74f59512233",
   "metadata": {},
   "source": [
    "# Exercise 33"
   ]
  },
  {
   "cell_type": "code",
   "execution_count": 36,
   "id": "532883ea-c977-44a5-ae64-4c2712bc3d7c",
   "metadata": {},
   "outputs": [],
   "source": [
    "person = {\"name\": \"Ngabo\", \"age\": 29}"
   ]
  },
  {
   "cell_type": "markdown",
   "id": "c847ae0b-b4d6-44fb-8c8a-19da8dcf5253",
   "metadata": {},
   "source": [
    "# Exercise 34"
   ]
  },
  {
   "cell_type": "code",
   "execution_count": 37,
   "id": "b4d8aae0-31c2-4694-9feb-3a449d0087bb",
   "metadata": {},
   "outputs": [],
   "source": [
    "float_sum = 3.5 + 2.1"
   ]
  },
  {
   "cell_type": "markdown",
   "id": "1a3d0721-06c3-4e0f-9770-bc29a2deb088",
   "metadata": {},
   "source": [
    "# Exercise 35"
   ]
  },
  {
   "cell_type": "code",
   "execution_count": 38,
   "id": "95484419-9d58-4488-84c1-8c7aea98303f",
   "metadata": {},
   "outputs": [],
   "source": [
    "is_sunny = 10 > 5"
   ]
  },
  {
   "cell_type": "markdown",
   "id": "766c5363-a777-4089-ac8d-3b5967518ab7",
   "metadata": {},
   "source": [
    "# Exercise 36"
   ]
  },
  {
   "cell_type": "code",
   "execution_count": 40,
   "id": "50995320-2341-4727-b83c-9c1af3d4ee73",
   "metadata": {},
   "outputs": [
    {
     "name": "stdout",
     "output_type": "stream",
     "text": [
      "Holy Spirit 1\n"
     ]
    }
   ],
   "source": [
    "title = \"Holy Spirit\"\n",
    "number = 1\n",
    "print(title, number)"
   ]
  },
  {
   "cell_type": "markdown",
   "id": "4e41089b-365f-4b9b-9feb-70d1e3ef49cc",
   "metadata": {},
   "source": [
    "# Exercise 37"
   ]
  },
  {
   "cell_type": "code",
   "execution_count": 41,
   "id": "ff4dcd0c-0f6d-498b-9a21-909e9164bff6",
   "metadata": {},
   "outputs": [],
   "source": [
    "some_var = 100\n",
    "some_var = True"
   ]
  },
  {
   "cell_type": "markdown",
   "id": "753142ff-e7eb-40e5-9688-394d469e57a6",
   "metadata": {},
   "source": [
    "# Exercise 38"
   ]
  },
  {
   "cell_type": "code",
   "execution_count": 42,
   "id": "3c0b0fd2-2ef7-4d09-bffc-087df5e6b848",
   "metadata": {},
   "outputs": [],
   "source": [
    "is_weekend = False"
   ]
  },
  {
   "cell_type": "markdown",
   "id": "703923b6-d1bd-43c7-b3f8-618ab08d29c9",
   "metadata": {},
   "source": [
    "# Exercise 39"
   ]
  },
  {
   "cell_type": "code",
   "execution_count": 43,
   "id": "35c628a5-b8b2-4a79-b515-51952a45a576",
   "metadata": {},
   "outputs": [],
   "source": [
    "description = \"\"\"This is a multi-line\n",
    "string that spans several\n",
    "lines.\"\"\""
   ]
  },
  {
   "cell_type": "markdown",
   "id": "40163715-6b4e-4fcc-8c07-d9050f490da4",
   "metadata": {},
   "source": [
    "# Exercise 40"
   ]
  },
  {
   "cell_type": "code",
   "execution_count": 44,
   "id": "534c0f33-7eec-4c17-a3d8-2b371effc52e",
   "metadata": {},
   "outputs": [],
   "source": [
    "abs_value = abs(-25)"
   ]
  },
  {
   "cell_type": "markdown",
   "id": "98ec3e3f-1c97-4552-b1d6-17c4a2b959c7",
   "metadata": {},
   "source": [
    "# Exercise 41"
   ]
  },
  {
   "cell_type": "code",
   "execution_count": 45,
   "id": "8967424a-decf-48fc-bad7-6872617133af",
   "metadata": {},
   "outputs": [],
   "source": [
    "floor_div_result = 100 // 6"
   ]
  },
  {
   "cell_type": "markdown",
   "id": "97e2f71f-d327-46f3-992f-9b6fe78d8520",
   "metadata": {},
   "source": [
    "# Exercise 42"
   ]
  },
  {
   "cell_type": "code",
   "execution_count": 46,
   "id": "26418335-d5b1-403e-9f54-6b15869f612f",
   "metadata": {},
   "outputs": [],
   "source": [
    "mixed_sum = 5 + 3.2"
   ]
  },
  {
   "cell_type": "markdown",
   "id": "d9c6d3a2-d860-406e-b09c-5c115d9d8459",
   "metadata": {},
   "source": [
    "# Exercise 43"
   ]
  },
  {
   "cell_type": "code",
   "execution_count": 48,
   "id": "86222131-cce9-4552-abe5-679b84363c1d",
   "metadata": {},
   "outputs": [
    {
     "name": "stdout",
     "output_type": "stream",
     "text": [
      "Machine Learning\n"
     ]
    }
   ],
   "source": [
    "one = \"Machine\"\n",
    "two = \"Learning\"\n",
    "combined = one + \" \" + two\n",
    "print(combined)"
   ]
  },
  {
   "cell_type": "markdown",
   "id": "dc393a72-173c-403c-b28e-e0c1c06a96e8",
   "metadata": {},
   "source": [
    "# Exercise 44"
   ]
  },
  {
   "cell_type": "code",
   "execution_count": 49,
   "id": "01eb9b81-d12f-4d26-9046-65239a3428d8",
   "metadata": {},
   "outputs": [],
   "source": [
    "empty_list = []"
   ]
  },
  {
   "cell_type": "markdown",
   "id": "c9300c29-c494-4b44-9a19-62d0de9aba15",
   "metadata": {},
   "source": [
    "# Exercise 45"
   ]
  },
  {
   "cell_type": "code",
   "execution_count": 50,
   "id": "4d00b0ab-ada9-49f4-9af6-74f49e32de59",
   "metadata": {},
   "outputs": [],
   "source": [
    "a = 10\n",
    "b = 15\n",
    "comparison_result = a < b"
   ]
  },
  {
   "cell_type": "markdown",
   "id": "0d2220df-b338-447e-b0b7-0bb4e6e411c0",
   "metadata": {},
   "source": [
    "# Exercise 46"
   ]
  },
  {
   "cell_type": "code",
   "execution_count": 51,
   "id": "9187aae8-35a2-4638-8faf-fe91667488e7",
   "metadata": {},
   "outputs": [],
   "source": [
    "long_sentence = \"Christ is my firm foundation the rock on which I stand and I won't be going under!\"\n",
    "char_count = len(long_sentence)"
   ]
  },
  {
   "cell_type": "markdown",
   "id": "97a1d6fb-bfca-415a-a8a8-d080040d50a4",
   "metadata": {},
   "source": [
    "# Exercise 47"
   ]
  },
  {
   "cell_type": "code",
   "execution_count": 52,
   "id": "2c9b87d1-f6d0-4e42-935b-96adf86111a8",
   "metadata": {},
   "outputs": [],
   "source": [
    "division_result = 7 / 3"
   ]
  },
  {
   "cell_type": "markdown",
   "id": "35f39094-faea-44bf-87f9-a420a9d0973d",
   "metadata": {},
   "source": [
    "# Exercise 48"
   ]
  },
  {
   "cell_type": "code",
   "execution_count": 53,
   "id": "2d2259a4-c9c6-4ac6-8555-64b446347332",
   "metadata": {},
   "outputs": [],
   "source": [
    "speed = 100  # km/h"
   ]
  },
  {
   "cell_type": "markdown",
   "id": "f832e6e6-03b6-4e00-ac48-26639f37bc6c",
   "metadata": {},
   "source": [
    "# Exercise 49"
   ]
  },
  {
   "cell_type": "code",
   "execution_count": 54,
   "id": "fd53c4aa-26b1-4c3e-9aa1-f82f416a2b4b",
   "metadata": {},
   "outputs": [],
   "source": [
    "x = 4\n",
    "y = 3 * x + 5"
   ]
  },
  {
   "cell_type": "markdown",
   "id": "d8c08146-016e-480f-bf31-03c7fe7fe613",
   "metadata": {},
   "source": [
    "# Exercise 50"
   ]
  },
  {
   "cell_type": "code",
   "execution_count": 55,
   "id": "9528b7d5-1cf1-4781-a2ae-1222d1a15036",
   "metadata": {},
   "outputs": [],
   "source": [
    "z1, z2, z3 = 5, 9, 6\n",
    "average = (z1 + z2 + z3) / 3"
   ]
  },
  {
   "cell_type": "code",
   "execution_count": null,
   "id": "b523250b-8225-4fd5-9f2c-46f27a8a4080",
   "metadata": {},
   "outputs": [],
   "source": []
  }
 ],
 "metadata": {
  "kernelspec": {
   "display_name": "Python 3 (ipykernel)",
   "language": "python",
   "name": "python3"
  },
  "language_info": {
   "codemirror_mode": {
    "name": "ipython",
    "version": 3
   },
   "file_extension": ".py",
   "mimetype": "text/x-python",
   "name": "python",
   "nbconvert_exporter": "python",
   "pygments_lexer": "ipython3",
   "version": "3.12.4"
  }
 },
 "nbformat": 4,
 "nbformat_minor": 5
}
