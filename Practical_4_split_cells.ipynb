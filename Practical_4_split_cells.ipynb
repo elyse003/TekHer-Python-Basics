{
 "cells": [
  {
   "cell_type": "markdown",
   "id": "9fd00cef",
   "metadata": {},
   "source": [
    "# Practical_4: Flow control"
   ]
  },
  {
   "cell_type": "markdown",
   "id": "497af3a0",
   "metadata": {},
   "source": [
    "\n",
    "\n",
    "---\n",
    "\n",
    "### Exercise 1:\n",
    "Write a Python program that checks if a number is positive or negative.\n"
   ]
  },
  {
   "cell_type": "code",
   "execution_count": 3,
   "id": "4525d7b1",
   "metadata": {},
   "outputs": [
    {
     "name": "stdin",
     "output_type": "stream",
     "text": [
      "Enter a number:  23\n"
     ]
    },
    {
     "name": "stdout",
     "output_type": "stream",
     "text": [
      "The number is positive\n"
     ]
    }
   ],
   "source": [
    "nbr = int(input(\"Enter a number: \"))\n",
    "if nbr > 0:\n",
    "    print(\"The number is positive\")\n",
    "else:\n",
    "    print(\"The number is negative\")"
   ]
  },
  {
   "cell_type": "markdown",
   "id": "289c0fec",
   "metadata": {},
   "source": [
    "\n",
    "---\n",
    "\n",
    "### Exercise 2:\n",
    "Write a Python function that checks if a string starts with a vowel.\n"
   ]
  },
  {
   "cell_type": "code",
   "execution_count": 20,
   "id": "3adbe475",
   "metadata": {},
   "outputs": [
    {
     "name": "stdout",
     "output_type": "stream",
     "text": [
      "the string does not start with a vowel\n"
     ]
    }
   ],
   "source": [
    "def string_starts_with_vowel(text):\n",
    "    if text and text[0] in \"iuoae\" :\n",
    "        print(\"the string starts with a vowel\")\n",
    "    else:\n",
    "     print(\"the string does not start with a vowel\")\n",
    "\n",
    "string_starts_with_vowel(\"Noella\")"
   ]
  },
  {
   "cell_type": "markdown",
   "id": "d64fdd3e",
   "metadata": {},
   "source": [
    "\n",
    "---\n",
    "\n",
    "### Exercise 3:\n",
    "Write a Python program that takes a list of integers and prints \"Even\" for each even number and \"Odd\" for each odd number.\n"
   ]
  },
  {
   "cell_type": "code",
   "execution_count": 35,
   "id": "e6926b1c",
   "metadata": {
    "scrolled": true
   },
   "outputs": [
    {
     "name": "stdout",
     "output_type": "stream",
     "text": [
      "1 is Odd\n",
      "2 is Even\n",
      "3 is Odd\n",
      "4 is Even\n",
      "5 is Odd\n",
      "6 is Even\n",
      "7 is Odd\n",
      "8 is Even\n",
      "9 is Odd\n"
     ]
    }
   ],
   "source": [
    "def nbr_is_even(numbers):\n",
    "    for num in numbers:\n",
    "      if num % 2 == 0:\n",
    "        print(f\"{num} is Even\")\n",
    "      else:\n",
    "        print(f\"{num} is Odd\")\n",
    "nbr_is_even([1,2,3,4,5,6,7,8,9])"
   ]
  },
  {
   "cell_type": "markdown",
   "id": "b5ce7b99",
   "metadata": {},
   "source": [
    "\n",
    "---\n",
    "\n",
    "### Exercise 4:\n",
    "Write a Python program that checks if a given year is a leap year.\n"
   ]
  },
  {
   "cell_type": "code",
   "execution_count": 37,
   "id": "eb3d99f0",
   "metadata": {},
   "outputs": [
    {
     "name": "stdin",
     "output_type": "stream",
     "text": [
      "Enter a year:  2024\n"
     ]
    },
    {
     "name": "stdout",
     "output_type": "stream",
     "text": [
      "Leap Year\n"
     ]
    }
   ],
   "source": [
    "year = int(input(\"Enter a year: \"))\n",
    "if year % 4 == 0 :\n",
    "    print(\"Leap Year\")\n",
    "else:\n",
    "    print(\"Not a Leap Year\")"
   ]
  },
  {
   "cell_type": "markdown",
   "id": "c5496d7d",
   "metadata": {},
   "source": [
    "\n",
    "---\n",
    "\n",
    "### Exercise 5:\n",
    "Write a Python function that checks if a number is divisible by both 3 and 5.\n"
   ]
  },
  {
   "cell_type": "code",
   "execution_count": 44,
   "id": "46b1bd68",
   "metadata": {},
   "outputs": [
    {
     "name": "stdout",
     "output_type": "stream",
     "text": [
      "digit is divisible\n"
     ]
    }
   ],
   "source": [
    "def divisible_by_3_and_5(digits):\n",
    "        if digits % 3 == 0 and digits % 5 == 0:\n",
    "            print(\"digit is divisible\")\n",
    "        else:\n",
    "            print(\"digit is not divisible\")\n",
    "divisible_by_3_and_5(15)"
   ]
  },
  {
   "cell_type": "markdown",
   "id": "b0348707",
   "metadata": {},
   "source": [
    "\n",
    "---\n",
    "\n",
    "### Exercise 6:\n",
    "Write a Python program that prints \"Hot\" if the temperature is above 30, \"Warm\" if it is between 15 and 30, and \"Cold\" if it is below 15.\n"
   ]
  },
  {
   "cell_type": "code",
   "execution_count": 49,
   "id": "dfde8564",
   "metadata": {},
   "outputs": [
    {
     "name": "stdin",
     "output_type": "stream",
     "text": [
      "Enter your temperature:  40\n"
     ]
    },
    {
     "name": "stdout",
     "output_type": "stream",
     "text": [
      "Hot\n"
     ]
    }
   ],
   "source": [
    "temp = int(input(\"Enter your temperature: \"))\n",
    "if temp > 30 :\n",
    "    print(\"Hot\")\n",
    "elif temp >= 15 :\n",
    "    print(\"Warm\")\n",
    "else:\n",
    "    print(\"Cold\")"
   ]
  },
  {
   "cell_type": "markdown",
   "id": "ec1d713e",
   "metadata": {},
   "source": [
    "\n",
    "---\n",
    "\n",
    "### Exercise 7:\n",
    "Write a Python program that checks if a string contains the letter 'a'.\n"
   ]
  },
  {
   "cell_type": "code",
   "execution_count": 60,
   "id": "2eb30c57",
   "metadata": {},
   "outputs": [
    {
     "name": "stdin",
     "output_type": "stream",
     "text": [
      "Enter a string:  marie\n"
     ]
    },
    {
     "name": "stdout",
     "output_type": "stream",
     "text": [
      "contains a\n"
     ]
    }
   ],
   "source": [
    "contains_a = input(\"Enter a string: \")\n",
    "if \"a\" in contains_a:\n",
    "    print(\"contains a\")\n",
    "else:\n",
    "    print(\"Doesn't contain a\")"
   ]
  },
  {
   "cell_type": "markdown",
   "id": "8194f567",
   "metadata": {},
   "source": [
    "\n",
    "---\n",
    "\n",
    "### Exercise 8:\n",
    "Write a Python function that checks if two numbers are equal, or which one is larger.\n"
   ]
  },
  {
   "cell_type": "code",
   "execution_count": 56,
   "id": "ede9943f",
   "metadata": {},
   "outputs": [
    {
     "name": "stdout",
     "output_type": "stream",
     "text": [
      "x is equal to y\n"
     ]
    }
   ],
   "source": [
    "def comparison(x,y):\n",
    "    if x == y :\n",
    "        print(\"Equal\")\n",
    "    elif x > y:\n",
    "        print(\"x is larger than y\")\n",
    "    else:\n",
    "        print(\"y is larger than x\")\n",
    "comparison(2,2)"
   ]
  },
  {
   "cell_type": "markdown",
   "id": "9e86c97f",
   "metadata": {},
   "source": [
    "\n",
    "---\n",
    "\n",
    "### Exercise 9:\n",
    "Write a Python program that checks if a list is empty.\n"
   ]
  },
  {
   "cell_type": "code",
   "execution_count": 65,
   "id": "13738c3f",
   "metadata": {},
   "outputs": [
    {
     "name": "stdout",
     "output_type": "stream",
     "text": [
      "the list is empty\n"
     ]
    }
   ],
   "source": [
    "def empty_list(input_list):\n",
    "    if not input_list :\n",
    "        print(\"the list is empty\")\n",
    "    else:\n",
    "        print(\"the is list is not empty\")\n",
    "my_list = []\n",
    "empty_list(my_list)"
   ]
  },
  {
   "cell_type": "markdown",
   "id": "645a85cc",
   "metadata": {},
   "source": [
    "\n",
    "---\n",
    "\n",
    "### Exercise 10:\n",
    "Write a Python function that takes two strings and checks if they are anagrams.\n"
   ]
  },
  {
   "cell_type": "code",
   "execution_count": 72,
   "id": "756b7d46",
   "metadata": {},
   "outputs": [
    {
     "name": "stdout",
     "output_type": "stream",
     "text": [
      "They are anagrams\n"
     ]
    }
   ],
   "source": [
    "def are_anagrams(first_word, second_word):\n",
    "    first_word = first_word.replace(\" \", \"\").upper()\n",
    "    second_word = second_word.replace(\" \", \"\").upper()\n",
    "    if sorted(first_word) == sorted(second_word) :\n",
    "        print(\"They are anagrams\")\n",
    "    else:\n",
    "        print(\"They are not anagrams\")\n",
    "    \n",
    "are_anagrams(\"brag\", \"GRAB\")"
   ]
  },
  {
   "cell_type": "markdown",
   "id": "59ebce61",
   "metadata": {},
   "source": [
    "\n",
    "---\n",
    "\n",
    "### Exercise 11:\n",
    "Write a Python program that checks if a number is prime.\n"
   ]
  },
  {
   "cell_type": "code",
   "execution_count": 85,
   "id": "b077d9a1",
   "metadata": {},
   "outputs": [
    {
     "name": "stdin",
     "output_type": "stream",
     "text": [
      "Enter number:  4\n"
     ]
    },
    {
     "name": "stdout",
     "output_type": "stream",
     "text": [
      "Not Prime\n"
     ]
    }
   ],
   "source": [
    "prime = int(input(\"Enter number: \"))\n",
    "if prime < 2:\n",
    "    print(\"Not Prime\")\n",
    "else:\n",
    "    for i in range(2, int(prime ** 0.5) + 1):\n",
    "        if prime % i == 0:\n",
    "            print(\"Not Prime\")\n",
    "            break\n",
    "    else:\n",
    "        print(\"Prime\")"
   ]
  },
  {
   "cell_type": "markdown",
   "id": "531463b8",
   "metadata": {},
   "source": [
    "\n",
    "---\n",
    "\n",
    "### Exercise 12:\n",
    "Write a Python program that checks if a list of numbers is sorted in ascending order.\n"
   ]
  },
  {
   "cell_type": "code",
   "execution_count": 95,
   "id": "01fc5a9e",
   "metadata": {},
   "outputs": [
    {
     "name": "stdout",
     "output_type": "stream",
     "text": [
      "Not sorted in ascending order\n"
     ]
    }
   ],
   "source": [
    "def sorted_in_ascending(list):\n",
    "    if list == sorted(list):\n",
    "        print(\"Sorted in ascending order\")\n",
    "    else:\n",
    "        print(\"Not sorted in ascending order\")\n",
    "sorted_in_ascending([1, 3, 2])"
   ]
  },
  {
   "cell_type": "markdown",
   "id": "b15a0cca",
   "metadata": {},
   "source": [
    "\n",
    "---\n",
    "\n",
    "### Exercise 13:\n",
    "Write a Python function that takes a character and checks if it is a digit.\n"
   ]
  },
  {
   "cell_type": "code",
   "execution_count": 100,
   "id": "2dc9a053",
   "metadata": {},
   "outputs": [
    {
     "name": "stdout",
     "output_type": "stream",
     "text": [
      "A character is a digit\n"
     ]
    }
   ],
   "source": [
    "def is_digit(values):\n",
    "    if values.isdigit():\n",
    "        print(\"A character is a digit\")\n",
    "    else:\n",
    "        print(\"A character is not a digit\")\n",
    "is_digit(\"12\")"
   ]
  },
  {
   "cell_type": "markdown",
   "id": "60190b10",
   "metadata": {},
   "source": [
    "\n",
    "---\n",
    "\n",
    "### Exercise 14:\n",
    "Write a Python function that checks if a string contains only uppercase letters.\n"
   ]
  },
  {
   "cell_type": "code",
   "execution_count": 104,
   "id": "4ed8ebfa",
   "metadata": {},
   "outputs": [
    {
     "name": "stdout",
     "output_type": "stream",
     "text": [
      "Uppercase letters\n"
     ]
    }
   ],
   "source": [
    "def upper_case(string):\n",
    "    if string.isupper():\n",
    "        print(\"Uppercase letters\")\n",
    "    else:\n",
    "        print(\"Not uppersecase letters\")\n",
    "upper_case(\"ELYSE\")"
   ]
  },
  {
   "cell_type": "markdown",
   "id": "7f7dd4fd",
   "metadata": {},
   "source": [
    "\n",
    "---\n",
    "\n",
    "### Exercise 15:\n",
    "Write a Python program that checks if a number is a multiple of 10.\n"
   ]
  },
  {
   "cell_type": "code",
   "execution_count": 107,
   "id": "e35d5709",
   "metadata": {},
   "outputs": [
    {
     "name": "stdin",
     "output_type": "stream",
     "text": [
      "Enter any number:  5\n"
     ]
    },
    {
     "name": "stdout",
     "output_type": "stream",
     "text": [
      "N is not a multiple of 10\n"
     ]
    }
   ],
   "source": [
    "N = int(input(\"Enter any number: \"))\n",
    "if N % 10 == 0:\n",
    "    print(\"N is a multiple of 10\")\n",
    "else:\n",
    "    print(\"N is not a multiple of 10\")"
   ]
  },
  {
   "cell_type": "markdown",
   "id": "83e1c5d3",
   "metadata": {},
   "source": [
    "\n",
    "---\n",
    "\n",
    "### Exercise 16:\n",
    "Write a Python function that checks if a list contains any duplicates.\n"
   ]
  },
  {
   "cell_type": "code",
   "execution_count": 112,
   "id": "24d52edd",
   "metadata": {},
   "outputs": [
    {
     "name": "stdout",
     "output_type": "stream",
     "text": [
      "No duplicates\n"
     ]
    }
   ],
   "source": [
    "def duplicates(any_list):\n",
    "    if len(any_list) != len(set(any_list)):\n",
    "        print(\"Has dupicates\")\n",
    "    else:\n",
    "        print(\"No duplicates\")\n",
    "duplicates([1,3,4])"
   ]
  },
  {
   "cell_type": "markdown",
   "id": "d9533146",
   "metadata": {},
   "source": [
    "\n",
    "---\n",
    "\n",
    "### Exercise 17:\n",
    "Write a Python program that prints \"Teenager\" if the age is between 13 and 19, otherwise it prints \"Not a teenager.\"\n"
   ]
  },
  {
   "cell_type": "code",
   "execution_count": 91,
   "id": "bd9212dd",
   "metadata": {},
   "outputs": [
    {
     "name": "stdin",
     "output_type": "stream",
     "text": [
      "Type any age:  4\n"
     ]
    },
    {
     "name": "stdout",
     "output_type": "stream",
     "text": [
      "Not a teenager\n"
     ]
    }
   ],
   "source": [
    "age = int(input(\"Type any age: \"))\n",
    "if 13 <= age <= 19 :\n",
    "    print(\"Teenager\")\n",
    "else:\n",
    "    print(\"Not a teenager\")"
   ]
  },
  {
   "cell_type": "markdown",
   "id": "370f2ba1",
   "metadata": {},
   "source": [
    "\n",
    "---\n",
    "\n",
    "### Exercise 18:\n",
    "Write a Python function that checks if a list contains an element greater than 100.\n"
   ]
  },
  {
   "cell_type": "code",
   "execution_count": 2,
   "id": "23cde312",
   "metadata": {},
   "outputs": [
    {
     "name": "stdin",
     "output_type": "stream",
     "text": [
      "number:  400\n"
     ]
    },
    {
     "name": "stdout",
     "output_type": "stream",
     "text": [
      "Element is greater than 100\n"
     ]
    }
   ],
   "source": [
    "element = int(input(\"number: \"))\n",
    "if element > 100:\n",
    "    print(\"Element is greater than 100\")\n",
    "else:\n",
    "    print(\"Element is not greater than 100\")"
   ]
  },
  {
   "cell_type": "markdown",
   "id": "322ae5e3",
   "metadata": {},
   "source": [
    "\n",
    "---\n",
    "\n",
    "### Exercise 19:\n",
    "Write a Python program that checks if a number is even or odd.\n"
   ]
  },
  {
   "cell_type": "code",
   "execution_count": 114,
   "id": "a91bd104",
   "metadata": {},
   "outputs": [
    {
     "name": "stdin",
     "output_type": "stream",
     "text": [
      "Write any number:  5\n"
     ]
    },
    {
     "name": "stdout",
     "output_type": "stream",
     "text": [
      "Odd\n"
     ]
    }
   ],
   "source": [
    "n = int(input(\"Write any number: \"))\n",
    "if n % 2 == 0:\n",
    "    print(\"Even\")\n",
    "else:\n",
    "    print(\"Odd\")"
   ]
  },
  {
   "cell_type": "markdown",
   "id": "98e0835d",
   "metadata": {},
   "source": [
    "\n",
    "---\n",
    "\n",
    "### Exercise 20:\n",
    "Write a Python function that checks if a string ends with a punctuation mark.\n"
   ]
  },
  {
   "cell_type": "code",
   "execution_count": 117,
   "id": "31fd2458",
   "metadata": {},
   "outputs": [
    {
     "name": "stdout",
     "output_type": "stream",
     "text": [
      "String doesn't end with punctual mark\n"
     ]
    }
   ],
   "source": [
    "def string_ends_with_punctual(p):\n",
    "    if p[-1] in '.,;!?':\n",
    "        print(\"String ends with punctual mark\")\n",
    "    else:\n",
    "        print(\"String doesn't end with punctual mark\")\n",
    "string_ends_with_punctual(\"My love\")"
   ]
  },
  {
   "cell_type": "markdown",
   "id": "fb313702",
   "metadata": {},
   "source": [
    "\n",
    "---\n",
    "\n",
    "### Exercise 21:\n",
    "Write a Python program that prints \"Yes\" if the number is between 1 and 100, otherwise it prints \"No.\"\n"
   ]
  },
  {
   "cell_type": "code",
   "execution_count": 119,
   "id": "e362bd56",
   "metadata": {},
   "outputs": [
    {
     "name": "stdin",
     "output_type": "stream",
     "text": [
      "Put a number:  103\n"
     ]
    },
    {
     "name": "stdout",
     "output_type": "stream",
     "text": [
      "No\n"
     ]
    }
   ],
   "source": [
    "z = int(input(\"Put a number: \"))\n",
    "if z in range(1,101):\n",
    "    print(\"Yes\")\n",
    "else:\n",
    "    print(\"No\")"
   ]
  },
  {
   "cell_type": "markdown",
   "id": "3afeef94",
   "metadata": {},
   "source": [
    "\n",
    "---\n",
    "\n",
    "### Exercise 22:\n",
    "Write a Python program that checks if two strings have the same length.\n"
   ]
  },
  {
   "cell_type": "code",
   "execution_count": 120,
   "id": "73b75867",
   "metadata": {},
   "outputs": [
    {
     "name": "stdout",
     "output_type": "stream",
     "text": [
      "Same length\n"
     ]
    }
   ],
   "source": [
    "t1, t2 = \"abc\", \"123\"\n",
    "print(\"Same length\" if len(t1) == len(t2) else \"Different length\")\n"
   ]
  },
  {
   "cell_type": "markdown",
   "id": "bdd8e2ae",
   "metadata": {},
   "source": [
    "\n",
    "---\n",
    "\n",
    "### Exercise 23:\n",
    "Write a Python function that checks if a number is greater than its reverse.\n"
   ]
  },
  {
   "cell_type": "code",
   "execution_count": 3,
   "id": "da8ad2f4",
   "metadata": {},
   "outputs": [
    {
     "name": "stdout",
     "output_type": "stream",
     "text": [
      "FALSE\n"
     ]
    }
   ],
   "source": [
    "def greater_than_reverse(reverse):\n",
    "    if reverse > int(str(reverse)[::-1]):\n",
    "        print('TRUE')\n",
    "    else:\n",
    "        print('FALSE')\n",
    "greater_than_reverse(89)  "
   ]
  },
  {
   "cell_type": "markdown",
   "id": "fab070bc",
   "metadata": {},
   "source": [
    "\n",
    "---\n",
    "\n",
    "### Exercise 24:\n",
    "Write a Python program that checks if a password contains both letters and numbers.\n"
   ]
  },
  {
   "cell_type": "code",
   "execution_count": 21,
   "id": "6e22f9b2",
   "metadata": {},
   "outputs": [
    {
     "name": "stdin",
     "output_type": "stream",
     "text": [
      "Enter your password:  ytdghs55\n"
     ]
    },
    {
     "name": "stdout",
     "output_type": "stream",
     "text": [
      "Yes\n"
     ]
    }
   ],
   "source": [
    "char = input(\"Enter your password: \")\n",
    "\n",
    "if any(c.isdigit() for c in char) and any(c.isalpha() for c in char):\n",
    "    print(\"Yes\")\n",
    "else:\n",
    "    print(\"No\")\n",
    "\n"
   ]
  },
  {
   "cell_type": "markdown",
   "id": "11cb6e7b",
   "metadata": {},
   "source": [
    "\n",
    "\n",
    "### Exercise 25:\n",
    "Write a Python program that checks if a number is between two given numbers.\n"
   ]
  },
  {
   "cell_type": "code",
   "execution_count": 22,
   "id": "38cab028",
   "metadata": {},
   "outputs": [
    {
     "data": {
      "text/plain": [
       "True"
      ]
     },
     "execution_count": 22,
     "metadata": {},
     "output_type": "execute_result"
    }
   ],
   "source": [
    "def in_between(n, a, b):\n",
    "    return a < n < b\n",
    "in_between(2, 1, 5)"
   ]
  },
  {
   "cell_type": "markdown",
   "id": "50b24a42",
   "metadata": {},
   "source": [
    "\n",
    "---\n",
    "\n",
    "### Exercise 26:\n",
    "Write a Python function that checks if all characters in a string are unique.\n"
   ]
  },
  {
   "cell_type": "code",
   "execution_count": 42,
   "id": "62537159",
   "metadata": {},
   "outputs": [
    {
     "name": "stdout",
     "output_type": "stream",
     "text": [
      "All characters are unique\n",
      "There are duplicate characters.\n",
      "All characters are unique\n"
     ]
    }
   ],
   "source": [
    "def all_unique_characters(s):\n",
    "    if len(s) == len(set(s)):\n",
    "        print(\"All characters are unique\")\n",
    "    else:\n",
    "        print(\"There are duplicate characters.\")\n",
    "all_unique_characters(\"abcde\")    \n",
    "all_unique_characters(\"hello\")    \n",
    "all_unique_characters(\"Python3!\") "
   ]
  },
  {
   "cell_type": "markdown",
   "id": "54ffa82e",
   "metadata": {},
   "source": [
    "\n",
    "---\n",
    "\n",
    "### Exercise 27:\n",
    "Write a Python program that checks if a number is a perfect square.\n"
   ]
  },
  {
   "cell_type": "code",
   "execution_count": 41,
   "id": "dd0707b7",
   "metadata": {},
   "outputs": [
    {
     "name": "stdout",
     "output_type": "stream",
     "text": [
      "25 is a perfect square.\n",
      "640 is not a perfect square.\n",
      "-40 is not a perfect square; negative numbers can't be.\n"
     ]
    }
   ],
   "source": [
    "import math\n",
    "def is_perfect_square(num):\n",
    "    if num < 0:\n",
    "        print(f\"{num} is not a perfect square; negative numbers can't be.\")\n",
    "        return\n",
    "    root = math.isqrt(num)\n",
    "    if root * root == num:\n",
    "        print (f\"{num} is a perfect square.\")\n",
    "    else: \n",
    "        print(f\"{num} is not a perfect square.\")\n",
    "is_perfect_square(25)  \n",
    "is_perfect_square(640) \n",
    "is_perfect_square(-40)"
   ]
  },
  {
   "cell_type": "markdown",
   "id": "78349b82",
   "metadata": {},
   "source": [
    "\n",
    "---\n",
    "\n",
    "### Exercise 28:\n",
    "Write a Python function that checks if a word is a palindrome.\n"
   ]
  },
  {
   "cell_type": "code",
   "execution_count": 40,
   "id": "04056d04",
   "metadata": {},
   "outputs": [
    {
     "name": "stdout",
     "output_type": "stream",
     "text": [
      "madam is a palindrome.\n",
      "hello is not a palindrome.\n",
      "racecar is a palindrome.\n"
     ]
    }
   ],
   "source": [
    "def is_palindrome(word):\n",
    "    word = word.lower()\n",
    "    if word == word[::-1]:\n",
    "        print(f\"{word} is a palindrome.\")\n",
    "    else:\n",
    "        print(f\"{word} is not a palindrome.\")\n",
    "is_palindrome(\"madam\")    \n",
    "is_palindrome(\"hello\")    \n",
    "is_palindrome(\"Racecar\")"
   ]
  },
  {
   "cell_type": "markdown",
   "id": "9728cce0",
   "metadata": {},
   "source": [
    "\n",
    "---\n",
    "\n",
    "### Exercise 29:\n",
    "Write a Python program that prints \"Fizz\" if a number is divisible by 3, \"Buzz\" if it is divisible by 5, and \"FizzBuzz\" if divisible by both.\n"
   ]
  },
  {
   "cell_type": "code",
   "execution_count": 39,
   "id": "d3caedaa",
   "metadata": {},
   "outputs": [
    {
     "name": "stdout",
     "output_type": "stream",
     "text": [
      "Fizz\n",
      "Buzz\n",
      "FizzBuzz\n",
      "7\n"
     ]
    }
   ],
   "source": [
    "def fizz_buzz(num):\n",
    "    if num % 3 == 0 and num % 5 == 0:\n",
    "        print(\"FizzBuzz\")\n",
    "    elif num % 3 == 0:\n",
    "        print(\"Fizz\")\n",
    "    elif num % 5 == 0:\n",
    "        print(\"Buzz\")\n",
    "    else:\n",
    "        print(num)\n",
    "\n",
    "fizz_buzz(3)    \n",
    "fizz_buzz(5)   \n",
    "fizz_buzz(15)  \n",
    "fizz_buzz(7) "
   ]
  },
  {
   "cell_type": "markdown",
   "id": "b3c19de5",
   "metadata": {},
   "source": [
    "\n",
    "---\n",
    "\n",
    "### Exercise 30:\n",
    "Write a Python program that checks if the sum of the digits of a number is even.\n"
   ]
  },
  {
   "cell_type": "code",
   "execution_count": 38,
   "id": "1d8d47e4",
   "metadata": {},
   "outputs": [
    {
     "name": "stdout",
     "output_type": "stream",
     "text": [
      "The sum of the digits (10) is even.\n",
      "The sum of the digits (18) is even.\n",
      "The sum of the digits (9) is odd.\n"
     ]
    }
   ],
   "source": [
    "def is_sum_even(number):\n",
    "    digits = [int(d) for d in str(abs(number))] \n",
    "    total = sum(digits)\n",
    "    \n",
    "    if total % 2 == 0:\n",
    "        print(f\"The sum of the digits ({total}) is even.\")\n",
    "    else:\n",
    "        print(f\"The sum of the digits ({total}) is odd.\")\n",
    "\n",
    "is_sum_even(1234)   \n",
    "is_sum_even(567)  \n",
    "is_sum_even(135) "
   ]
  },
  {
   "cell_type": "markdown",
   "id": "dbe78293",
   "metadata": {},
   "source": [
    "\n",
    "---\n",
    "\n",
    "### Exercise 31:\n",
    "Write a Python program that checks if a string is a valid email address.\n"
   ]
  },
  {
   "cell_type": "code",
   "execution_count": null,
   "id": "dc64fe29",
   "metadata": {},
   "outputs": [],
   "source": [
    "# Exercise 31"
   ]
  },
  {
   "cell_type": "markdown",
   "id": "32922851",
   "metadata": {},
   "source": [
    "\n",
    "---\n",
    "\n",
    "### Exercise 32:\n",
    "Write a Python function that checks if a number is within 10 of 100 or 200.\n"
   ]
  },
  {
   "cell_type": "code",
   "execution_count": 37,
   "id": "c3ae205c",
   "metadata": {},
   "outputs": [
    {
     "name": "stdout",
     "output_type": "stream",
     "text": [
      "93 is within 10 of 100 or 200.\n",
      "210 is within 10 of 100 or 200.\n",
      "89 is not within 10 of 100 or 200.\n"
     ]
    }
   ],
   "source": [
    "def is_within_10_of_100_or_200(num):\n",
    "    if abs(100 - num) <= 10 or abs(200 - num) <= 10:\n",
    "        print(f\"{num} is within 10 of 100 or 200.\")\n",
    "    else:\n",
    "        print(f\"{num} is not within 10 of 100 or 200.\")\n",
    "\n",
    "is_within_10_of_100_or_200(93)    \n",
    "is_within_10_of_100_or_200(210)   \n",
    "is_within_10_of_100_or_200(89) "
   ]
  },
  {
   "cell_type": "markdown",
   "id": "fedc8718",
   "metadata": {},
   "source": [
    "\n",
    "---\n",
    "\n",
    "### Exercise 33:\n",
    "Write a Python program that checks if a given string is a valid URL.\n"
   ]
  },
  {
   "cell_type": "code",
   "execution_count": null,
   "id": "756593ce",
   "metadata": {},
   "outputs": [],
   "source": [
    "# Exercise 33"
   ]
  },
  {
   "cell_type": "markdown",
   "id": "13e8fcae",
   "metadata": {},
   "source": [
    "\n",
    "---\n",
    "\n",
    "### Exercise 34:\n",
    "Write a Python program that checks if a list contains all even numbers.\n"
   ]
  },
  {
   "cell_type": "code",
   "execution_count": 36,
   "id": "e3069861",
   "metadata": {},
   "outputs": [
    {
     "name": "stdout",
     "output_type": "stream",
     "text": [
      "All numbers in the list are even.\n",
      "Not all numbers in the list are even.\n",
      "All numbers in the list are even.\n"
     ]
    }
   ],
   "source": [
    "def are_all_even(numbers):\n",
    "    if all(num % 2 == 0 for num in numbers):\n",
    "        print(\"All numbers in the list are even.\")\n",
    "    else:\n",
    "        print(\"Not all numbers in the list are even.\")\n",
    "\n",
    "are_all_even([2, 4, 6, 8]) \n",
    "are_all_even([1, 2, 4, 6]) \n",
    "are_all_even([])"
   ]
  },
  {
   "cell_type": "markdown",
   "id": "f19e5362",
   "metadata": {},
   "source": [
    "\n",
    "---\n",
    "\n",
    "### Exercise 35:\n",
    "Write a Python program that checks if a word is longer than a given length.\n"
   ]
  },
  {
   "cell_type": "code",
   "execution_count": 35,
   "id": "491df226",
   "metadata": {},
   "outputs": [
    {
     "name": "stdout",
     "output_type": "stream",
     "text": [
      "The word 'elephant' is longer than 5 characters.\n",
      "The word 'cat' is not longer than 3 characters.\n",
      "The word 'giraffe' is not longer than 7 characters.\n"
     ]
    }
   ],
   "source": [
    "def is_longer_than(word, length):\n",
    "    if len(word) > length:\n",
    "        print(f\"The word '{word}' is longer than {length} characters.\")\n",
    "    else:\n",
    "        print(f\"The word '{word}' is not longer than {length} characters.\")\n",
    "\n",
    "is_longer_than(\"elephant\", 5)    \n",
    "is_longer_than(\"cat\", 3)       \n",
    "is_longer_than(\"giraffe\", 7)"
   ]
  },
  {
   "cell_type": "markdown",
   "id": "68956c6c",
   "metadata": {},
   "source": [
    "\n",
    "---\n",
    "\n",
    "### Exercise 36:\n",
    "Write a Python program that checks if a list contains only positive numbers.\n"
   ]
  },
  {
   "cell_type": "code",
   "execution_count": 34,
   "id": "09112e89",
   "metadata": {},
   "outputs": [
    {
     "name": "stdout",
     "output_type": "stream",
     "text": [
      "All numbers in the list are positive.\n",
      "The list contains non-positive numbers.\n",
      "The list contains non-positive numbers.\n"
     ]
    }
   ],
   "source": [
    "def all_positive(numbers):\n",
    "    if all(num > 0 for num in numbers):\n",
    "        print(\"All numbers in the list are positive.\")\n",
    "    else:\n",
    "        print(\"The list contains non-positive numbers.\")\n",
    "\n",
    "all_positive([1, 2, 3, 4]) \n",
    "all_positive([0, 1, 2])  \n",
    "all_positive([-1, 5, 6])"
   ]
  },
  {
   "cell_type": "markdown",
   "id": "14f0333b",
   "metadata": {},
   "source": [
    "\n",
    "---\n",
    "\n",
    "### Exercise 37:\n",
    "Write a Python function that checks if a year is a century year (i.e., divisible by 100).\n"
   ]
  },
  {
   "cell_type": "code",
   "execution_count": 33,
   "id": "9a0ee8fa",
   "metadata": {},
   "outputs": [
    {
     "name": "stdout",
     "output_type": "stream",
     "text": [
      "1900 is a century year.\n",
      "2023 is not a century year.\n",
      "2000 is a century year.\n"
     ]
    }
   ],
   "source": [
    "def is_century_year(year):\n",
    "    if year % 100 == 0:\n",
    "        print(f\"{year} is a century year.\")\n",
    "    else:\n",
    "        print(f\"{year} is not a century year.\")\n",
    "\n",
    "is_century_year(1900)  \n",
    "is_century_year(2023)  \n",
    "is_century_year(2000) "
   ]
  },
  {
   "cell_type": "markdown",
   "id": "6271bb93",
   "metadata": {},
   "source": [
    "\n",
    "---\n",
    "\n",
    "### Exercise 38:\n",
    "Write a Python program that checks if the sum of a list of numbers is greater than 100.\n"
   ]
  },
  {
   "cell_type": "code",
   "execution_count": 32,
   "id": "6ddf783b",
   "metadata": {},
   "outputs": [
    {
     "name": "stdout",
     "output_type": "stream",
     "text": [
      "The sum is 110, which is greater than 100.\n",
      "The sum is 60, which is not greater than 100.\n",
      "The sum is 0, which is not greater than 100.\n"
     ]
    }
   ],
   "source": [
    "def is_sum_greater_than_100(numbers):\n",
    "    total = sum(numbers)\n",
    "    if total > 100:\n",
    "        print(f\"The sum is {total}, which is greater than 100.\")\n",
    "    else:\n",
    "        print(f\"The sum is {total}, which is not greater than 100.\")\n",
    "\n",
    "\n",
    "is_sum_greater_than_100([20, 30, 60])\n",
    "is_sum_greater_than_100([10, 20, 30])\n",
    "is_sum_greater_than_100([])"
   ]
  },
  {
   "cell_type": "markdown",
   "id": "8a8b88a8",
   "metadata": {},
   "source": [
    "\n",
    "---\n",
    "\n",
    "### Exercise 39:\n",
    "Write a Python function that checks if a given word is a substring of another string.\n"
   ]
  },
  {
   "cell_type": "code",
   "execution_count": 31,
   "id": "2d077065",
   "metadata": {},
   "outputs": [
    {
     "name": "stdout",
     "output_type": "stream",
     "text": [
      "'apple' is a substring of 'I have an apple.'.\n",
      "'orange' is not a substring of 'I have an apple.'.\n",
      "'a' is a substring of 'apple'.\n"
     ]
    }
   ],
   "source": [
    "def is_substring(word, string):\n",
    "    if word in string:\n",
    "        print(f\"'{word}' is a substring of '{string}'.\")\n",
    "    else:\n",
    "        print(f\"'{word}' is not a substring of '{string}'.\")\n",
    "\n",
    "is_substring(\"apple\", \"I have an apple.\")  \n",
    "is_substring(\"orange\", \"I have an apple.\")\n",
    "is_substring(\"a\", \"apple\")"
   ]
  },
  {
   "cell_type": "markdown",
   "id": "b21a3bd9",
   "metadata": {},
   "source": [
    "\n",
    "---\n",
    "\n",
    "### Exercise 40:\n",
    "Write a Python program that checks if a number is a power of 2.\n"
   ]
  },
  {
   "cell_type": "code",
   "execution_count": null,
   "id": "550f2c88-38a0-449e-ba5b-81375d5e3db7",
   "metadata": {},
   "outputs": [],
   "source": []
  },
  {
   "cell_type": "markdown",
   "id": "5ecd119f",
   "metadata": {},
   "source": [
    "\n",
    "---\n",
    "\n",
    "### Exercise 41:\n",
    "Write a Python function that checks if a string contains no spaces.\n"
   ]
  },
  {
   "cell_type": "code",
   "execution_count": 29,
   "id": "8017833e",
   "metadata": {},
   "outputs": [
    {
     "name": "stdout",
     "output_type": "stream",
     "text": [
      "The string contains no spaces.\n",
      "The string contains spaces.\n",
      "The string contains no spaces.\n"
     ]
    }
   ],
   "source": [
    "def has_no_spaces(string):\n",
    "    if \" \" in string:\n",
    "        print(f\"The string contains spaces.\")\n",
    "    else:\n",
    "        print(f\"The string contains no spaces.\")\n",
    "\n",
    "has_no_spaces(\"HelloWorld\")\n",
    "has_no_spaces(\"Hello World\")\n",
    "has_no_spaces(\"\")"
   ]
  },
  {
   "cell_type": "markdown",
   "id": "9b3c2803",
   "metadata": {},
   "source": [
    "\n",
    "---\n",
    "\n",
    "### Exercise 42:\n",
    "Write a Python program that prints \"Yes\" if a number is divisible by both 2 and 3, otherwise it prints \"No.\"\n"
   ]
  },
  {
   "cell_type": "code",
   "execution_count": 28,
   "id": "cdbf39a0",
   "metadata": {},
   "outputs": [
    {
     "name": "stdout",
     "output_type": "stream",
     "text": [
      "Yes\n",
      "No\n",
      "No\n",
      "Yes\n"
     ]
    }
   ],
   "source": [
    "def check_divisibility(num):\n",
    "    if num % 2 == 0 and num % 3 == 0:\n",
    "        print(\"Yes\")\n",
    "    else:\n",
    "        print(\"No\")\n",
    "        \n",
    "check_divisibility(6)  \n",
    "check_divisibility(10) \n",
    "check_divisibility(9)  \n",
    "check_divisibility(12) "
   ]
  },
  {
   "cell_type": "markdown",
   "id": "5a691fcf",
   "metadata": {},
   "source": [
    "\n",
    "---\n",
    "\n",
    "### Exercise 43:\n",
    "Write a Python program that checks if a number is a palindrome.\n"
   ]
  },
  {
   "cell_type": "code",
   "execution_count": 27,
   "id": "e7528a0b",
   "metadata": {},
   "outputs": [
    {
     "name": "stdout",
     "output_type": "stream",
     "text": [
      "121 is a palindrome.\n",
      "123 is not a palindrome.\n",
      "0 is a palindrome.\n",
      "-121 is not a palindrome.\n"
     ]
    }
   ],
   "source": [
    "def is_palindrome(number):\n",
    "    \n",
    "    num_str = str(number)\n",
    "    \n",
    "    if num_str == num_str[::-1]:\n",
    "        print(f\"{number} is a palindrome.\")\n",
    "    else:\n",
    "        print(f\"{number} is not a palindrome.\")\n",
    "\n",
    "is_palindrome(121) \n",
    "is_palindrome(123) \n",
    "is_palindrome(0)  \n",
    "is_palindrome(-121)"
   ]
  },
  {
   "cell_type": "markdown",
   "id": "49dfa276",
   "metadata": {},
   "source": [
    "\n",
    "---\n",
    "\n",
    "### Exercise 44:\n",
    "Write a Python function that checks if a string is made of only lowercase letters.\n"
   ]
  },
  {
   "cell_type": "code",
   "execution_count": 26,
   "id": "2aa39193",
   "metadata": {},
   "outputs": [
    {
     "name": "stdout",
     "output_type": "stream",
     "text": [
      "'hello' is made of only lowercase letters.\n",
      "'Hello' is not made of only lowercase letters.\n",
      "'hello123' is not made of only lowercase letters.\n",
      "'' is not made of only lowercase letters.\n"
     ]
    }
   ],
   "source": [
    "def is_lowercase(string):\n",
    "    if string.islower() and string.isalpha():\n",
    "        print(f\"'{string}' is made of only lowercase letters.\")\n",
    "    else:\n",
    "        print(f\"'{string}' is not made of only lowercase letters.\")\n",
    "\n",
    "is_lowercase(\"hello\") \n",
    "is_lowercase(\"Hello\") \n",
    "is_lowercase(\"hello123\") \n",
    "is_lowercase(\"\")"
   ]
  },
  {
   "cell_type": "markdown",
   "id": "e5ba21ba",
   "metadata": {},
   "source": [
    "\n",
    "---\n",
    "\n",
    "### Exercise 45:\n",
    "Write a Python program that checks if a string starts with a specific prefix.\n"
   ]
  },
  {
   "cell_type": "code",
   "execution_count": 25,
   "id": "e6670049",
   "metadata": {},
   "outputs": [
    {
     "name": "stdout",
     "output_type": "stream",
     "text": [
      "'hello world' starts with the prefix 'hello'.\n",
      "'goodbye world' does not start with the prefix 'hello'.\n",
      "'apple' starts with the prefix 'ap'.\n",
      "'apple' does not start with the prefix 'pp'.\n"
     ]
    }
   ],
   "source": [
    "def starts_with_prefix(string, prefix):\n",
    "    if string.startswith(prefix):\n",
    "        print(f\"'{string}' starts with the prefix '{prefix}'.\")\n",
    "    else:\n",
    "        print(f\"'{string}' does not start with the prefix '{prefix}'.\")\n",
    "\n",
    "starts_with_prefix(\"hello world\", \"hello\") \n",
    "starts_with_prefix(\"goodbye world\", \"hello\")\n",
    "starts_with_prefix(\"apple\", \"ap\")\n",
    "starts_with_prefix(\"apple\", \"pp\")"
   ]
  },
  {
   "cell_type": "markdown",
   "id": "1ee0a3b5",
   "metadata": {},
   "source": [
    "\n",
    "---\n",
    "\n",
    "### Exercise 46:\n",
    "Write a Python function that checks if a number is divisible by any number in a given list.\n"
   ]
  },
  {
   "cell_type": "code",
   "execution_count": 24,
   "id": "7d01ccf9",
   "metadata": {},
   "outputs": [
    {
     "name": "stdout",
     "output_type": "stream",
     "text": [
      "10 is divisible by 2.\n",
      "14 is divisible by 7.\n",
      "11 is not divisible by any number in the list.\n",
      "30 is divisible by 3.\n"
     ]
    }
   ],
   "source": [
    "def is_divisible_by_any(number, divisors):\n",
    "    for divisor in divisors:\n",
    "        if number % divisor == 0:\n",
    "            print(f\"{number} is divisible by {divisor}.\")\n",
    "            return\n",
    "    print(f\"{number} is not divisible by any number in the list.\")\n",
    "\n",
    "\n",
    "is_divisible_by_any(10, [2, 3, 5])  \n",
    "is_divisible_by_any(14, [3, 5, 7])  \n",
    "is_divisible_by_any(11, [2, 3, 5])  \n",
    "is_divisible_by_any(30, [3, 4, 6]) "
   ]
  },
  {
   "cell_type": "markdown",
   "id": "1563300f",
   "metadata": {},
   "source": [
    "\n",
    "---\n",
    "\n",
    "### Exercise 47:\n",
    "Write a Python program that prints \"Yes\" if a string has more than one occurrence of the same letter.\n"
   ]
  },
  {
   "cell_type": "code",
   "execution_count": 23,
   "id": "923dcbc1",
   "metadata": {},
   "outputs": [
    {
     "name": "stdout",
     "output_type": "stream",
     "text": [
      "Yes\n",
      "No\n",
      "No\n",
      "Yes\n"
     ]
    }
   ],
   "source": [
    "def has_duplicate_letter(string):\n",
    "    seen = set()\n",
    "    for char in string:\n",
    "        if char in seen:\n",
    "            print(\"Yes\")\n",
    "            return \n",
    "        seen.add(char)\n",
    "    print(\"No\")\n",
    "\n",
    "\n",
    "has_duplicate_letter(\"hello\") \n",
    "has_duplicate_letter(\"world\") \n",
    "has_duplicate_letter(\"abc\")\n",
    "has_duplicate_letter(\"aabbcc\")"
   ]
  },
  {
   "cell_type": "markdown",
   "id": "ecfb7eba",
   "metadata": {},
   "source": [
    "\n",
    "---\n",
    "\n",
    "### Exercise 48:\n",
    "Write a Python function that checks if a number is prime by dividing it by numbers up to its square root.\n"
   ]
  },
  {
   "cell_type": "code",
   "execution_count": null,
   "id": "3492a570",
   "metadata": {},
   "outputs": [],
   "source": [
    "# Exercise 48"
   ]
  },
  {
   "cell_type": "markdown",
   "id": "efb3508c",
   "metadata": {},
   "source": [
    "\n",
    "---\n",
    "\n",
    "### Exercise 49:\n",
    "Write a Python program that checks if a number is within 1 of a multiple of 10.\n"
   ]
  },
  {
   "cell_type": "code",
   "execution_count": null,
   "id": "fc272cc0",
   "metadata": {},
   "outputs": [],
   "source": [
    "# Exercise 49"
   ]
  },
  {
   "cell_type": "markdown",
   "id": "8c58ab68",
   "metadata": {},
   "source": [
    "\n",
    "---\n",
    "\n",
    "### Exercise 50:\n",
    "Write a Python program that prints \"In range\" if a number is between 10 and 20 (inclusive), otherwise it prints \"Out of range.\"\n"
   ]
  },
  {
   "cell_type": "code",
   "execution_count": null,
   "id": "24ea2036",
   "metadata": {},
   "outputs": [],
   "source": [
    "# Exercise 50"
   ]
  },
  {
   "cell_type": "markdown",
   "id": "87ccd774",
   "metadata": {},
   "source": [
    "\n",
    "---"
   ]
  }
 ],
 "metadata": {
  "kernelspec": {
   "display_name": "Python 3 (ipykernel)",
   "language": "python",
   "name": "python3"
  },
  "language_info": {
   "codemirror_mode": {
    "name": "ipython",
    "version": 3
   },
   "file_extension": ".py",
   "mimetype": "text/x-python",
   "name": "python",
   "nbconvert_exporter": "python",
   "pygments_lexer": "ipython3",
   "version": "3.12.4"
  }
 },
 "nbformat": 4,
 "nbformat_minor": 5
}
